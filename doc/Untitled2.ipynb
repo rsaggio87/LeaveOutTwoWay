{
 "cells": [
  {
   "cell_type": "code",
   "execution_count": null,
   "id": "ff5d503f-ef9f-4b07-ab06-70d55a685550",
   "metadata": {},
   "outputs": [],
   "source": []
  }
 ],
 "metadata": {
  "kernelspec": {
   "display_name": "",
   "name": ""
  },
  "language_info": {
   "name": ""
  }
 },
 "nbformat": 4,
 "nbformat_minor": 5
}
