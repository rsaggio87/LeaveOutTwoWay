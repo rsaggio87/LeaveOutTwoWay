{
 "cells": [
  {
   "cell_type": "markdown",
   "metadata": {},
   "source": [
    "# Computing Cluster-Unbiased Standard Errors\n",
    "\n",
    "This readme shows how to compute standard errors for linear regression coefficients that are unbiased even in the presence of serial-correlation of the error term within cluster. This might be particularly useful when estimating a regression model with very few clusters. This [document](https://www.dropbox.com/scl/fi/vxyss0tf3h50lpwrp80c0/metrics.pdf?rlkey=ne9yiquzcj3k9d4itx4vzzlm1&dl=1) describes the econometric formula used in this package and derived in Lemma 3 of [Kline-Saggio-Sølvsten (2020)](https://eml.berkeley.edu/~pkline/papers/KSS2020.pdf).\n",
    "\n",
    "# The `KSS_SE` Function\n",
    "\n",
    "The function `KSS_SE` is a `MATLAB` function that takes as input the following:\n",
    "* `y` outcome variable. Dimension is $N\\times 1$.\n",
    "* `D` treatment(s) of interest. Dimension is $N\\times N_{D}$.\n",
    "* `clusterID` variable that indexes clusters. Dimension is $N\\times 1$.\n",
    "* `indexID` variable that indexes observations within clusters. Dimension is $N\\times 1$.\n",
    "* `controls` additional controls. Dimension is $N\\times N_{P}$.\n",
    "\n",
    "The function computes the KSS leave-out standard errors on the regression coefficients associated with `D`. These SEs are clustered at the level indexed by `clusterID`, after controlling for `controls`, `clusterID` fixed effects as well as `indexID` fixed effects. The inputs  `indexID` and `controls` are optional and can be supplied as empty arrays `[]`.\n",
    "\n",
    "We now demonstrate the functioning of  `KSS_SE` in the context where one is interested in fitting an event study model of the form\n",
    "\n",
    "$$\n",
    "y_{it} = \\alpha_{i} + \\lambda_{t} + \\sum_{k=a}^{b}D_{it}^{k}\\theta_{k}+X_{it}\\gamma + r_{it}\n",
    "$$\n",
    "where $\\alpha_{i}$ are, say, state fixed effects; $\\lambda_{t}$ are year fixed effects; $D_{it}^{k}$ are event study indicators and $X_{it}$ are some time-varying controls. "
   ]
  },
  {
   "cell_type": "markdown",
   "metadata": {},
   "source": [
    "# Building and Exporting the Data To Matlab\n",
    "\n",
    "We first load up ACS public available data on health insurance using `Stata`. "
   ]
  },
  {
   "cell_type": "code",
   "execution_count": 2,
   "metadata": {},
   "outputs": [
    {
     "name": "stdout",
     "output_type": "stream",
     "text": [
      "\n",
      "  ___  ____  ____  ____  ____ ®\n",
      " /__    /   ____/   /   ____/      18.0\n",
      "___/   /   /___/   /   /___/       SE—Standard Edition\n",
      "\n",
      " Statistics and Data Science       Copyright 1985-2023 StataCorp LLC\n",
      "                                   StataCorp\n",
      "                                   4905 Lakeway Drive\n",
      "                                   College Station, Texas 77845 USA\n",
      "                                   800-STATA-PC        https://www.stata.com\n",
      "                                   979-696-4600        stata@stata.com\n",
      "\n",
      "Stata license: Unlimited-user network, expiring 19 Aug 2024\n",
      "Serial number: 401809301518\n",
      "  Licensed to: Raffaele Saggio\n",
      "               UBC\n",
      "\n",
      "Notes:\n",
      "      1. Unicode is supported; see help unicode_advice.\n",
      "      2. Maximum number of variables is set to 5,000 but can be increased;\n",
      "          see help set_maxvar.\n"
     ]
    }
   ],
   "source": [
    "import stata_setup\n",
    "stata_setup.config(\"/Applications/STATA\", \"se\")"
   ]
  },
  {
   "cell_type": "code",
   "execution_count": 20,
   "metadata": {},
   "outputs": [
    {
     "name": "stdout",
     "output_type": "stream",
     "text": [
      "\n",
      ". cd \"/Users/raffaelesaggio/Dropbox/LeaveOutTwoWay\"\n",
      "/Users/raffaelesaggio/Dropbox/LeaveOutTwoWay\n",
      "\n",
      ". local mixtape https://raw.githubusercontent.com/Mixtape-Sessions\n",
      "\n",
      ". use `mixtape'/Advanced-DID/main/Exercises/Data/ehec_data.dta, clear\n",
      "\n",
      ". l in 1/5\n",
      "\n",
      "     +--------------------------------------------+\n",
      "     |  stfips   year       dins   yexp2        W |\n",
      "     |--------------------------------------------|\n",
      "  1. | alabama   2008   .6814122       .   613156 |\n",
      "  2. | alabama   2009   .6580621       .   613156 |\n",
      "  3. | alabama   2010   .6313651       .   613156 |\n",
      "  4. | alabama   2011   .6563886       .   613156 |\n",
      "  5. | alabama   2012   .6708115       .   613156 |\n",
      "     +--------------------------------------------+\n",
      "\n",
      ". tab year\n",
      "\n",
      " Census/ACS |\n",
      "survey year |      Freq.     Percent        Cum.\n",
      "------------+-----------------------------------\n",
      "       2008 |         46        8.33        8.33\n",
      "       2009 |         46        8.33       16.67\n",
      "       2010 |         46        8.33       25.00\n",
      "       2011 |         46        8.33       33.33\n",
      "       2012 |         46        8.33       41.67\n",
      "       2013 |         46        8.33       50.00\n",
      "       2014 |         46        8.33       58.33\n",
      "       2015 |         46        8.33       66.67\n",
      "       2016 |         46        8.33       75.00\n",
      "       2017 |         46        8.33       83.33\n",
      "       2018 |         46        8.33       91.67\n",
      "       2019 |         46        8.33      100.00\n",
      "------------+-----------------------------------\n",
      "      Total |        552      100.00\n",
      "\n",
      ". tab yexp2\n",
      "\n",
      "    Year of |\n",
      "   Medicaid |\n",
      "  Expansion |      Freq.     Percent        Cum.\n",
      "------------+-----------------------------------\n",
      "       2014 |        264       73.33       73.33\n",
      "       2015 |         36       10.00       83.33\n",
      "       2016 |         24        6.67       90.00\n",
      "       2017 |         12        3.33       93.33\n",
      "       2019 |         24        6.67      100.00\n",
      "------------+-----------------------------------\n",
      "      Total |        360      100.00\n",
      "\n",
      ". gen treated = 1 \n",
      "\n",
      ". replace treated = 0 if yexp2==.\n",
      "(192 real changes made)\n",
      "\n",
      ". \n"
     ]
    }
   ],
   "source": [
    "%%stata\n",
    "cd \"/Users/raffaelesaggio/Dropbox/LeaveOutTwoWay\"\n",
    "local mixtape https://raw.githubusercontent.com/Mixtape-Sessions\n",
    "use `mixtape'/Advanced-DID/main/Exercises/Data/ehec_data.dta, clear\n",
    "l in 1/5\n",
    "tab year\n",
    "tab yexp2\n",
    "gen treated = 1 \n",
    "replace treated = 0 if yexp2==."
   ]
  },
  {
   "cell_type": "markdown",
   "metadata": {},
   "source": [
    "This is a (balanced) state-year panel where the variable `dins` is the outcome of interest and `yexp2` measures the year in which Medicaid was expanded in a given state (it is missing for states that did not expand, like Alabama). Note that the panel runs from 2008 and 2019  and most states expanded in 2014.\n",
    "\n",
    "We now export to matlab `dins` `stfips` `year` and the set of event study indicators in a .csv called `data_MEDICAID.csv`. To do that, we set $a = -6$ and $b=4$ in (1), export the resulting data and save the results from the resulting event-study specification which we are going to use later"
   ]
  },
  {
   "cell_type": "code",
   "execution_count": 21,
   "metadata": {},
   "outputs": [
    {
     "name": "stdout",
     "output_type": "stream",
     "text": [
      "\n",
      ". rename yexp2 event_year\n",
      "\n",
      ". gen time_rel_event              = year-event_year\n",
      "(192 missing values generated)\n",
      "\n",
      ". sum time_rel_event\n",
      "\n",
      "    Variable |        Obs        Mean    Std. dev.       Min        Max\n",
      "-------------+---------------------------------------------------------\n",
      "time_rel_e~t |        360   -1.166667    3.720754        -11          5\n",
      "\n",
      ". global lb = -6 // winsorize pre-event coefficients at -6\n",
      "\n",
      ". global ub = 4  // winsorize post-event coefficients at 4\n",
      "\n",
      ". replace time_rel_event  =$ub if time_rel_event>=$ub   & time_rel_event!=.\n",
      "(22 real changes made)\n",
      "\n",
      ". replace time_rel_event  =$lb if time_rel_event<=$lb   & time_rel_event!=.\n",
      "(20 real changes made)\n",
      "\n",
      ". qui forval k=$lb/$ub {\n",
      "\n",
      ". local norma = -$lb - 1\n",
      "\n",
      ". replace D`norma'=0 // normalize relative to year before implemention\n",
      "(30 real changes made)\n",
      "\n",
      ". preserve\n",
      "\n",
      ". keep dins D* stfips year\n",
      "\n",
      ". order dins D* stfips year \n",
      "\n",
      ". drop D`norma' // do not import one event study indicator otherwise MATLAB cod\n",
      "> e would crash because of collinearity issue. \n",
      "\n",
      ". export delimited using \"data/data_MEDICAID.csv\", replace novarnames nolabel\n",
      "file data/data_MEDICAID.csv saved\n",
      "\n",
      ". restore\n",
      "\n",
      ". reghdfe dins D*, absorb(stfips year) cluster(stfips) noconstant\n",
      "(MWFE estimator converged in 2 iterations)\n",
      "note: D5 omitted because of collinearity\n",
      "\n",
      "HDFE Linear regression                            Number of obs   =        552\n",
      "Absorbing 2 HDFE groups                           F(  10,     45) =      16.52\n",
      "Statistics robust to heteroskedasticity           Prob > F        =     0.0000\n",
      "                                                  R-squared       =     0.9482\n",
      "                                                  Adj R-squared   =     0.9411\n",
      "                                                  Within R-sq.    =     0.4631\n",
      "Number of clusters (stfips)  =         46         Root MSE        =     0.0218\n",
      "\n",
      "                                (Std. err. adjusted for 46 clusters in stfips)\n",
      "------------------------------------------------------------------------------\n",
      "             |               Robust\n",
      "        dins | Coefficient  std. err.      t    P>|t|     [95% conf. interval]\n",
      "-------------+----------------------------------------------------------------\n",
      "          D0 |  -.0034914   .0082004    -0.43   0.672    -.0200079    .0130251\n",
      "          D1 |  -.0108234   .0069703    -1.55   0.127    -.0248623    .0032156\n",
      "          D2 |   -.008634   .0057581    -1.50   0.141    -.0202314    .0029633\n",
      "          D3 |  -.0049002   .0053501    -0.92   0.365    -.0156759    .0058755\n",
      "          D4 |  -.0065987   .0038092    -1.73   0.090    -.0142707    .0010734\n",
      "          D5 |          0  (omitted)\n",
      "          D6 |   .0445785    .005667     7.87   0.000     .0331645    .0559925\n",
      "          D7 |   .0643379   .0072982     8.82   0.000     .0496385    .0790372\n",
      "          D8 |   .0779544   .0082594     9.44   0.000     .0613191    .0945896\n",
      "          D9 |   .0737635   .0095947     7.69   0.000     .0544388    .0930882\n",
      "         D10 |   .0752858   .0108269     6.95   0.000     .0534794    .0970922\n",
      "------------------------------------------------------------------------------\n",
      "\n",
      "Absorbed degrees of freedom:\n",
      "-----------------------------------------------------+\n",
      " Absorbed FE | Categories  - Redundant  = Num. Coefs |\n",
      "-------------+---------------------------------------|\n",
      "      stfips |        46          46           0    *|\n",
      "        year |        12           0          12     |\n",
      "-----------------------------------------------------+\n",
      "* = FE nested within cluster; treated as redundant for DoF computation\n",
      "\n",
      ". global fileRESULTS = \"data/results_MEDICAID\"\n",
      "\n",
      ". qui do \"codes/event_plot\" // save coefficients and white SE\n",
      "\n",
      ". \n"
     ]
    }
   ],
   "source": [
    "%%stata\n",
    "rename yexp2 event_year\n",
    "gen time_rel_event \t\t= year-event_year\n",
    "sum time_rel_event\n",
    "global lb = -6 // winsorize pre-event coefficients at -6\n",
    "global ub = 4  // winsorize post-event coefficients at 4\n",
    "replace time_rel_event\t=$ub if time_rel_event>=$ub   & time_rel_event!=.\n",
    "replace time_rel_event\t=$lb if time_rel_event<=$lb   & time_rel_event!=.\n",
    "qui forval k=$lb/$ub {\n",
    "\t\tlocal auxname=`k'-$lb\n",
    "\t\tgen \tD`auxname'\t  = 0\n",
    "\t\treplace D`auxname'\t  = 1 if time_rel_event==`k' & treated == 1\n",
    "}\n",
    "local norma = -$lb - 1\n",
    "replace D`norma'=0 // normalize relative to year before implemention\n",
    "preserve\n",
    "keep dins D* stfips year\n",
    "order dins D* stfips year \n",
    "drop D`norma' // do not import one event study indicator otherwise MATLAB code would crash because of collinearity issue. \n",
    "export delimited using \"data/data_MEDICAID.csv\", replace novarnames nolabel\n",
    "restore\n",
    "reghdfe dins D*, absorb(stfips year) cluster(stfips) noconstant\n",
    "global fileRESULTS = \"data/results_MEDICAID\"\n",
    "qui do \"codes/event_plot\" // save coefficients and white SE"
   ]
  },
  {
   "cell_type": "markdown",
   "metadata": {},
   "source": [
    "## Running KSS_SE in MATLAB\n",
    "We now switch to MATLAB and begin by setting the path and the parfor environment."
   ]
  },
  {
   "cell_type": "code",
   "execution_count": 1,
   "metadata": {},
   "outputs": [],
   "source": [
    "%% setting path and parfor env\n",
    "clc\n",
    "clear\n",
    "cd '/Users/raffaelesaggio/Dropbox/LeaveOutTwoWay' %% update this to path where you saved the Github package\n",
    "path(path,'codes'); %this contains the main LeaveOut Routines.\n",
    "\n",
    "%% parallel envinr (you can uncommment all of this)\n",
    "%delete(gcp(\"nocreate\")) %clear parallel envir.\n",
    "%c = parcluster('local'); %tell me # of available cores\n",
    "%nw = c.NumWorkers; %tell me # of available cores\n",
    "%pool=parpool(nw,'IdleTimeout', Inf); %all cores will be assigned to Matlab"
   ]
  },
  {
   "cell_type": "markdown",
   "metadata": {},
   "source": [
    "We now import the data exported by STATA"
   ]
  },
  {
   "cell_type": "code",
   "execution_count": 2,
   "metadata": {},
   "outputs": [],
   "source": [
    "namesrc='data/data_MEDICAID.csv'; %see build_example_data\n",
    "data=importdata(namesrc); %import data\n",
    "y=data(:,1); %outcome variable\n",
    "D=data(:,2:11); %treatment of interest. in the example D corresponds to 9 event_study dummies. note that event dummy for the year before medicaid was implemented is not imported to avoid multicollinearity issues. \n",
    "clusterID=data(:,12); %this is a variable that contains the identifier of the cluster. this is the level at which we are going to cluster the standard errors\n",
    "year=data(:,13); %other dimension of the panel, in this case this is year (data is state by year panel).\n",
    "controls=[]; %in this example no controls but the code allows the inclusion of controls\n",
    "clear data\n",
    "\n",
    "%%next step is just to assign a label to each column of D, this is not\n",
    "%%necessary.\n",
    "for k = -6:-2\n",
    "    labels{k + 7}               = ['Event-Study Coefficient at ' num2str(k)]; % Adjust the index\n",
    "end\n",
    "\n",
    "for k = 0:4\n",
    "    labels{k + 6}               = ['Event-Study Coefficient at ' num2str(k)]; % Adjust the index\n",
    "end"
   ]
  },
  {
   "cell_type": "markdown",
   "metadata": {},
   "source": [
    "We are ready to launch `KSS_SE` by simply calling"
   ]
  },
  {
   "cell_type": "code",
   "execution_count": 3,
   "metadata": {
    "scrolled": true
   },
   "outputs": [
    {
     "name": "stdout",
     "output_type": "stream",
     "text": [
      "Coefficient on Event-Study Coefficient at -6:  -0.0034914\n",
      "KSS Standard Error: 0.0089091\n",
      "******************************************\n",
      "Coefficient on Event-Study Coefficient at -5:  -0.010823\n",
      "KSS Standard Error: 0.0068348\n",
      "******************************************\n",
      "Coefficient on Event-Study Coefficient at -4:  -0.008634\n",
      "KSS Standard Error: 0.0075653\n",
      "******************************************\n",
      "Coefficient on Event-Study Coefficient at -3:  -0.0049002\n",
      "KSS Standard Error: 0.0049889\n",
      "******************************************\n",
      "Coefficient on Event-Study Coefficient at -2:  -0.0065987\n",
      "KSS Standard Error: 0.0036725\n",
      "******************************************\n",
      "Coefficient on Event-Study Coefficient at 0:  0.044579\n",
      "KSS Standard Error: 0.0061763\n",
      "******************************************\n",
      "Coefficient on Event-Study Coefficient at 1:  0.064338\n",
      "KSS Standard Error: 0.0065041\n",
      "******************************************\n",
      "Coefficient on Event-Study Coefficient at 2:  0.077954\n",
      "KSS Standard Error: 0.008109\n",
      "******************************************\n",
      "Coefficient on Event-Study Coefficient at 3:  0.073763\n",
      "KSS Standard Error: 0.010457\n",
      "******************************************\n",
      "Coefficient on Event-Study Coefficient at 4:  0.075286\n",
      "KSS Standard Error: 0.011967\n",
      "******************************************\n"
     ]
    }
   ],
   "source": [
    "%% Run KSS!\n",
    "[coeff, SE]   = KSS_SE(y,D,clusterID,year,controls,labels); %% this is equivalent in STATA to run reghdfe y D* controls, abs(clusterID year) cluster(clusterID)\n",
    "\n",
    "%coeff are the event-study coefficients in this application.\n",
    "%SE are the KSS standard errors for coeff computed by leaving-out cluster c out, as described in Remark 3 of KSS.\n",
    "\n",
    "out                             = [coeff,SE]; \n",
    "s                               = ['data/results_MEDICAID_MATLAB.csv'];\n",
    "dlmwrite(s, out, 'delimiter', '\\t', 'precision', 16); %% saving results in a  .csv"
   ]
  },
  {
   "cell_type": "markdown",
   "metadata": {},
   "source": [
    "# Interpreting the Output\n",
    "\n",
    "The code `KSS_SE` prints the event-study coefficients (normalized relative to the year expansion of Medicaid) along with KSS standard errors, clustered at the state level. As shown in KSS, the standard errors printed by `KSS_SE`, are unbiased while \"White\" standard errors reported by standard packages (e.g. `reghdfe`)  are consistent but are typically biased in finite samples, especially when the number of clusters is small. "
   ]
  }
 ],
 "metadata": {
  "kernelspec": {
   "display_name": "MATLAB Kernel",
   "language": "matlab",
   "name": "jupyter_matlab_kernel"
  },
  "language_info": {
   "file_extension": ".m",
   "mimetype": "text/x-matlab",
   "name": "matlab"
  },
  "toc": {
   "base_numbering": 1,
   "nav_menu": {},
   "number_sections": true,
   "sideBar": true,
   "skip_h1_title": false,
   "title_cell": "Table of Contents",
   "title_sidebar": "Contents",
   "toc_cell": true,
   "toc_position": {},
   "toc_section_display": true,
   "toc_window_display": true
  }
 },
 "nbformat": 4,
 "nbformat_minor": 4
}
