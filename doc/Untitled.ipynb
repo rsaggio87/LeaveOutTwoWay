{
 "cells": [
  {
   "cell_type": "code",
   "execution_count": 1,
   "id": "417082af-ee20-40d2-9e29-9d80a0619eee",
   "metadata": {},
   "outputs": [
    {
     "name": "stderr",
     "output_type": "stream",
     "text": [
      "Error connecting to MATLAB. Check the status of MATLAB by clicking the \"Open MATLAB\" button. Retry after ensuring MATLAB is running successfully"
     ]
    }
   ],
   "source": [
    "a=2+1"
   ]
  },
  {
   "cell_type": "code",
   "execution_count": null,
   "id": "55489403-888d-4af2-95fd-ca3c2d297e69",
   "metadata": {},
   "outputs": [],
   "source": []
  }
 ],
 "metadata": {
  "kernelspec": {
   "display_name": "MATLAB Kernel",
   "language": "matlab",
   "name": "jupyter_matlab_kernel"
  },
  "language_info": {
   "file_extension": ".m",
   "mimetype": "text/x-matlab",
   "name": "matlab"
  }
 },
 "nbformat": 4,
 "nbformat_minor": 5
}
