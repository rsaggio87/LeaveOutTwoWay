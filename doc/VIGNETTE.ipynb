{
 "cells": [
  {
   "cell_type": "markdown",
   "metadata": {},
   "source": [
    "# Leave-Out Cluster Standard Errors\n",
    "\n",
    "This readme explains how to compute leave-out estimates of the sampling variability of a set of estimated linear regression coefficients. We work with a leave-cluster-out version of the routine that remains unbiased in the presence of arbitrary within cluster correlation of the errors, a feature which may prove useful when estimating regression models with few independent clusters. This [document](https://www.dropbox.com/scl/fi/vxyss0tf3h50lpwrp80c0/metrics.pdf?rlkey=ne9yiquzcj3k9d4itx4vzzlm1&dl=0) describes and provides intuition for the variance formula used in this package, which was first proposed in Remark 1 of [Kline-Saggio-Sølvsten (2020)](https://eml.berkeley.edu/~pkline/papers/KSS2020.pdf) -- henceforth KSS -- and its cluster robust variant, which was proposed in Remark 3 of KSS and used to derive the variance component estimates reported in Appendix B of that paper.\n",
    "\n",
    "# The `KSS_SE` Function\n",
    "\n",
    "The function `KSS_SE` is a `MATLAB` function that takes as input the following:\n",
    "* `y` outcome variable. Dimension is $N\\times 1$.\n",
    "* `D` treatment(s) of interest. Dimension is $N\\times N_{D}$.\n",
    "* `clusterID` variable that indexes clusters. Dimension is $N\\times 1$.\n",
    "* `indexID` variable that indexes observations within clusters. Dimension is $N\\times 1$.\n",
    "* `controls` additional controls. Dimension is $N\\times N_{P}$.\n",
    "\n",
    "The function computes the KSS leave-out standard errors on the regression coefficients associated with `D` after controlling for `controls`, `clusterID` fixed effects as well as `indexID` fixed effects. These SEs are clustered at the level indexed by `clusterID`.  The inputs  `indexID` and `controls` are optional and can be supplied as empty arrays `[]`.\n",
    "\n",
    "We now demonstrate the functioning of  `KSS_SE` in an example where one is interested in fitting an event study model of the form\n",
    "\n",
    "$$y_{it} = \\alpha_{i} + \\lambda_{t} + \\sum_{k=a}^{b}D_{it}^{k}\\theta_{k}+X_{it}'\\gamma + r_{it}$$\n",
    "where $\\alpha_{i}$ are, say, state fixed effects; $\\lambda_{t}$ are year fixed effects; $D_{it}^{k}$ are event study indicators and $X_{it}$ are some time-varying controls. \n"
   ]
  },
  {
   "cell_type": "markdown",
   "metadata": {},
   "source": [
    "# Building and Exporting the Data To Matlab\n",
    "\n",
    "We first load up ACS public available data on health insurance using `Stata`. "
   ]
  },
  {
   "cell_type": "code",
   "execution_count": 1,
   "metadata": {},
   "outputs": [
    {
     "name": "stdout",
     "output_type": "stream",
     "text": [
      "\n",
      "  ___  ____  ____  ____  ____ ®\n",
      " /__    /   ____/   /   ____/      18.0\n",
      "___/   /   /___/   /   /___/       SE—Standard Edition\n",
      "\n",
      " Statistics and Data Science       Copyright 1985-2023 StataCorp LLC\n",
      "                                   StataCorp\n",
      "                                   4905 Lakeway Drive\n",
      "                                   College Station, Texas 77845 USA\n",
      "                                   800-STATA-PC        https://www.stata.com\n",
      "                                   979-696-4600        stata@stata.com\n",
      "\n",
      "Stata license: Unlimited-user network, expiring 19 Aug 2024\n",
      "Serial number: 401809301518\n",
      "  Licensed to: Raffaele Saggio\n",
      "               UBC\n",
      "\n",
      "Notes:\n",
      "      1. Unicode is supported; see help unicode_advice.\n",
      "      2. Maximum number of variables is set to 5,000 but can be increased;\n",
      "          see help set_maxvar.\n"
     ]
    }
   ],
   "source": [
    "import stata_setup\n",
    "stata_setup.config(\"/Applications/STATA\", \"se\")"
   ]
  },
  {
   "cell_type": "code",
   "execution_count": 5,
   "metadata": {},
   "outputs": [
    {
     "name": "stdout",
     "output_type": "stream",
     "text": [
      "\n",
      ". cd \"/Users/raffaelesaggio/Dropbox/LeaveOutTwoWay\"\n",
      "/Users/raffaelesaggio/Dropbox/LeaveOutTwoWay\n",
      "\n",
      ". local mixtape https://raw.githubusercontent.com/Mixtape-Sessions\n",
      "\n",
      ". use `mixtape'/Advanced-DID/main/Exercises/Data/ehec_data.dta, clear\n",
      "\n",
      ". l in 1/5\n",
      "\n",
      "     +--------------------------------------------+\n",
      "     |  stfips   year       dins   yexp2        W |\n",
      "     |--------------------------------------------|\n",
      "  1. | alabama   2008   .6814122       .   613156 |\n",
      "  2. | alabama   2009   .6580621       .   613156 |\n",
      "  3. | alabama   2010   .6313651       .   613156 |\n",
      "  4. | alabama   2011   .6563886       .   613156 |\n",
      "  5. | alabama   2012   .6708115       .   613156 |\n",
      "     +--------------------------------------------+\n",
      "\n",
      ". tab year\n",
      "\n",
      " Census/ACS |\n",
      "survey year |      Freq.     Percent        Cum.\n",
      "------------+-----------------------------------\n",
      "       2008 |         46        8.33        8.33\n",
      "       2009 |         46        8.33       16.67\n",
      "       2010 |         46        8.33       25.00\n",
      "       2011 |         46        8.33       33.33\n",
      "       2012 |         46        8.33       41.67\n",
      "       2013 |         46        8.33       50.00\n",
      "       2014 |         46        8.33       58.33\n",
      "       2015 |         46        8.33       66.67\n",
      "       2016 |         46        8.33       75.00\n",
      "       2017 |         46        8.33       83.33\n",
      "       2018 |         46        8.33       91.67\n",
      "       2019 |         46        8.33      100.00\n",
      "------------+-----------------------------------\n",
      "      Total |        552      100.00\n",
      "\n",
      ". tab yexp2\n",
      "\n",
      "    Year of |\n",
      "   Medicaid |\n",
      "  Expansion |      Freq.     Percent        Cum.\n",
      "------------+-----------------------------------\n",
      "       2014 |        264       73.33       73.33\n",
      "       2015 |         36       10.00       83.33\n",
      "       2016 |         24        6.67       90.00\n",
      "       2017 |         12        3.33       93.33\n",
      "       2019 |         24        6.67      100.00\n",
      "------------+-----------------------------------\n",
      "      Total |        360      100.00\n",
      "\n",
      ". gen treated = 1 \n",
      "\n",
      ". replace treated = 0 if yexp2==.\n",
      "(192 real changes made)\n",
      "\n",
      ". \n"
     ]
    }
   ],
   "source": [
    "%%stata\n",
    "cd \"/Users/raffaelesaggio/Dropbox/LeaveOutTwoWay\"\n",
    "local mixtape https://raw.githubusercontent.com/Mixtape-Sessions\n",
    "use `mixtape'/Advanced-DID/main/Exercises/Data/ehec_data.dta, clear\n",
    "l in 1/5\n",
    "tab year\n",
    "tab yexp2\n",
    "gen treated = 1 \n",
    "replace treated = 0 if yexp2==."
   ]
  },
  {
   "cell_type": "markdown",
   "metadata": {},
   "source": [
    "This is a state-year panel where the variable `dins` is the outcome of interest and `yexp2` measures the year in which Medicaid was expanded in a given state (it is missing for states that did not expand, like Alabama). Note that the panel runs from 2008 and 2019  and most states expanded in 2014.\n",
    "\n",
    "We now export to matlab `dins` `stfips` `year` and the set of event study indicators in a .csv called `data_MEDICAID.csv`. To do that, we winsorize the event-study indicators at -6 and +4, export the resulting data and save the results after fitting the event-study specification"
   ]
  },
  {
   "cell_type": "code",
   "execution_count": 6,
   "metadata": {},
   "outputs": [
    {
     "name": "stdout",
     "output_type": "stream",
     "text": [
      "\n",
      ". rename yexp2 event_year\n",
      "\n",
      ". gen time_rel_event              = year-event_year\n",
      "(192 missing values generated)\n",
      "\n",
      ". sum time_rel_event\n",
      "\n",
      "    Variable |        Obs        Mean    Std. dev.       Min        Max\n",
      "-------------+---------------------------------------------------------\n",
      "time_rel_e~t |        360   -1.166667    3.720754        -11          5\n",
      "\n",
      ". global lb = -6 // winsorize pre-event coefficients at -6\n",
      "\n",
      ". global ub = 4  // winsorize post-event coefficients at 4\n",
      "\n",
      ". replace time_rel_event  =$ub if time_rel_event>=$ub   & time_rel_event!=.\n",
      "(22 real changes made)\n",
      "\n",
      ". replace time_rel_event  =$lb if time_rel_event<=$lb   & time_rel_event!=.\n",
      "(20 real changes made)\n",
      "\n",
      ". qui forval k=$lb/$ub {\n",
      "\n",
      ". local norma = -$lb - 1\n",
      "\n",
      ". replace D`norma'=0 // normalize relative to year before implemention\n",
      "(30 real changes made)\n",
      "\n",
      ". keep dins D* stfips year\n",
      "\n",
      ". order dins D* stfips year \n",
      "\n",
      ". drop D`norma' // do not import one event study indicator otherwise MATLAB cod\n",
      "> e would crash because of collinearity issue. \n",
      "\n",
      ". export delimited using \"data/data_MEDICAID.csv\", replace novarnames nolabel\n",
      "file data/data_MEDICAID.csv saved\n",
      "\n",
      ". reghdfe dins D*, absorb(stfips year) cluster(stfips) noconstant\n",
      "(MWFE estimator converged in 2 iterations)\n",
      "\n",
      "HDFE Linear regression                            Number of obs   =        552\n",
      "Absorbing 2 HDFE groups                           F(  10,     45) =      16.52\n",
      "Statistics robust to heteroskedasticity           Prob > F        =     0.0000\n",
      "                                                  R-squared       =     0.9482\n",
      "                                                  Adj R-squared   =     0.9411\n",
      "                                                  Within R-sq.    =     0.4631\n",
      "Number of clusters (stfips)  =         46         Root MSE        =     0.0218\n",
      "\n",
      "                                (Std. err. adjusted for 46 clusters in stfips)\n",
      "------------------------------------------------------------------------------\n",
      "             |               Robust\n",
      "        dins | Coefficient  std. err.      t    P>|t|     [95% conf. interval]\n",
      "-------------+----------------------------------------------------------------\n",
      "          D0 |  -.0034914   .0082004    -0.43   0.672    -.0200079    .0130251\n",
      "          D1 |  -.0108234   .0069703    -1.55   0.127    -.0248623    .0032156\n",
      "          D2 |   -.008634   .0057581    -1.50   0.141    -.0202314    .0029633\n",
      "          D3 |  -.0049002   .0053501    -0.92   0.365    -.0156759    .0058755\n",
      "          D4 |  -.0065987   .0038092    -1.73   0.090    -.0142707    .0010734\n",
      "          D6 |   .0445785    .005667     7.87   0.000     .0331645    .0559925\n",
      "          D7 |   .0643379   .0072982     8.82   0.000     .0496385    .0790372\n",
      "          D8 |   .0779544   .0082594     9.44   0.000     .0613191    .0945896\n",
      "          D9 |   .0737635   .0095947     7.69   0.000     .0544388    .0930882\n",
      "         D10 |   .0752858   .0108269     6.95   0.000     .0534794    .0970922\n",
      "------------------------------------------------------------------------------\n",
      "\n",
      "Absorbed degrees of freedom:\n",
      "-----------------------------------------------------+\n",
      " Absorbed FE | Categories  - Redundant  = Num. Coefs |\n",
      "-------------+---------------------------------------|\n",
      "      stfips |        46          46           0    *|\n",
      "        year |        12           0          12     |\n",
      "-----------------------------------------------------+\n",
      "* = FE nested within cluster; treated as redundant for DoF computation\n",
      "\n",
      ". \n"
     ]
    }
   ],
   "source": [
    "%%stata\n",
    "rename yexp2 event_year\n",
    "gen time_rel_event \t\t= year-event_year\n",
    "sum time_rel_event\n",
    "global lb = -6 // winsorize pre-event coefficients at -6\n",
    "global ub = 4  // winsorize post-event coefficients at 4\n",
    "replace time_rel_event\t=$ub if time_rel_event>=$ub   & time_rel_event!=.\n",
    "replace time_rel_event\t=$lb if time_rel_event<=$lb   & time_rel_event!=.\n",
    "qui forval k=$lb/$ub {\n",
    "\t\tlocal auxname=`k'-$lb\n",
    "\t\tgen \tD`auxname'\t  = 0\n",
    "\t\treplace D`auxname'\t  = 1 if time_rel_event==`k' & treated == 1\n",
    "}\n",
    "local norma = -$lb - 1\n",
    "replace D`norma'=0 // normalize relative to year before implemention\n",
    "keep dins D* stfips year\n",
    "order dins D* stfips year \n",
    "drop D`norma' // do not import one event study indicator otherwise MATLAB code would crash because of collinearity issue. \n",
    "export delimited using \"data/data_MEDICAID.csv\", replace novarnames nolabel\n",
    "reghdfe dins D*, absorb(stfips year) cluster(stfips) noconstant"
   ]
  },
  {
   "cell_type": "markdown",
   "metadata": {},
   "source": [
    "## Running KSS_SE in MATLAB\n",
    "We now switch to MATLAB and begin by setting the path and the parfor environment."
   ]
  },
  {
   "cell_type": "code",
   "execution_count": 1,
   "metadata": {},
   "outputs": [],
   "source": [
    "%% setting path and parfor env\n",
    "clc\n",
    "clear\n",
    "cd '/Users/raffaelesaggio/Dropbox/LeaveOutTwoWay' %% update this to path where you saved the Github package\n",
    "path(path,'codes'); %this contains the main LeaveOut Routines.\n",
    "\n",
    "%% parallel envinr (you can uncommment all of this)\n",
    "%delete(gcp(\"nocreate\")) %clear parallel envir.\n",
    "%c = parcluster('local'); %tell me # of available cores\n",
    "%nw = c.NumWorkers; %tell me # of available cores\n",
    "%pool=parpool(nw,'IdleTimeout', Inf); %all cores will be assigned to Matlab"
   ]
  },
  {
   "cell_type": "markdown",
   "metadata": {},
   "source": [
    "We now import the data exported by STATA"
   ]
  },
  {
   "cell_type": "code",
   "execution_count": 2,
   "metadata": {},
   "outputs": [],
   "source": [
    "namesrc='data/data_MEDICAID.csv'; %see build_example_data\n",
    "data=importdata(namesrc); %import data\n",
    "y=data(:,1); %outcome variable\n",
    "D=data(:,2:11); %treatment of interest. in the example D corresponds to 9 event_study dummies. note that event dummy for the year before medicaid was implemented is not imported to avoid multicollinearity issues. \n",
    "clusterID=data(:,12); %this is a variable that contains the identifier of the cluster. this is the level at which we are going to cluster the standard errors\n",
    "year=data(:,13); %other dimension of the panel, in this case this is year (data is state by year panel).\n",
    "controls=[]; %in this example no controls but the code allows the inclusion of controls\n",
    "clear data\n",
    "\n",
    "%%next step is just to assign a label to each column of D, this is not\n",
    "%%necessary.\n",
    "for k = -6:-2\n",
    "    labels{k + 7}               = ['Event-Study Coefficient at ' num2str(k)]; % Adjust the index\n",
    "end\n",
    "\n",
    "for k = 0:4\n",
    "    labels{k + 6}               = ['Event-Study Coefficient at ' num2str(k)]; % Adjust the index\n",
    "end"
   ]
  },
  {
   "cell_type": "markdown",
   "metadata": {},
   "source": [
    "We are ready to launch `KSS_SE` by simply calling"
   ]
  },
  {
   "cell_type": "code",
   "execution_count": 9,
   "metadata": {
    "scrolled": true
   },
   "outputs": [
    {
     "name": "stdout",
     "output_type": "stream",
     "text": [
      "Coefficient on Event-Study Coefficient at -6:  -0.0034914\n",
      "Leave-Out Standard Error: 0.0089091\n",
      "******************************************\n",
      "Coefficient on Event-Study Coefficient at -5:  -0.010823\n",
      "Leave-Out Standard Error: 0.0068348\n",
      "******************************************\n",
      "Coefficient on Event-Study Coefficient at -4:  -0.008634\n",
      "Leave-Out Standard Error: 0.0075653\n",
      "******************************************\n",
      "Coefficient on Event-Study Coefficient at -3:  -0.0049002\n",
      "Leave-Out Standard Error: 0.0049889\n",
      "******************************************\n",
      "Coefficient on Event-Study Coefficient at -2:  -0.0065987\n",
      "Leave-Out Standard Error: 0.0036725\n",
      "******************************************\n",
      "Coefficient on Event-Study Coefficient at 0:  0.044579\n",
      "Leave-Out Standard Error: 0.0061763\n",
      "******************************************\n",
      "Coefficient on Event-Study Coefficient at 1:  0.064338\n",
      "Leave-Out Standard Error: 0.0065041\n",
      "******************************************\n",
      "Coefficient on Event-Study Coefficient at 2:  0.077954\n",
      "Leave-Out Standard Error: 0.008109\n",
      "******************************************\n",
      "Coefficient on Event-Study Coefficient at 3:  0.073763\n",
      "Leave-Out Standard Error: 0.010457\n",
      "******************************************\n",
      "Coefficient on Event-Study Coefficient at 4:  0.075286\n",
      "Leave-Out Standard Error: 0.011967\n",
      "******************************************\n"
     ]
    }
   ],
   "source": [
    "%% Run KSS!\n",
    "[coeff, SE]   = KSS_SE(y,D,clusterID,year,controls,labels); %% this is equivalent in STATA to run reghdfe y D* controls, abs(clusterID year) cluster(clusterID)\n",
    "\n",
    "%coeff are the event-study coefficients in this application.\n",
    "%SE are the KSS standard errors for coeff computed by leaving-out cluster c out, as described in Remark 3 of KSS.\n",
    "\n",
    "out                             = [coeff,SE]; \n",
    "s                               = ['data/results_MEDICAID_MATLAB.csv'];\n",
    "dlmwrite(s, out, 'delimiter', '\\t', 'precision', 16); %% saving results in a  .csv"
   ]
  },
  {
   "cell_type": "markdown",
   "metadata": {},
   "source": [
    "# Interpreting the Output\n",
    "\n",
    "The code `KSS_SE` prints the event-study coefficients (normalized relative to the year expansion of Medicaid) along with KSS standard errors, clustered at the state level. As shown in KSS, the (square) of the standard errors printed by `KSS_SE`, represent an unbiased estimate of true sampling variability of these OLS estimates. The usual White (1980) standard errors that are reported by standard packages (e.g. `reghdfe`)  are consistent but are typically biased in finite samples, especially when the number of clusters is small. We demonstrate this point by means of a montecarlo simulation below.\n"
   ]
  },
  {
   "cell_type": "markdown",
   "metadata": {},
   "source": [
    "# Montecarlo Exercise\n",
    "\n",
    "Consider a simple DGP of the type \n",
    "\n",
    "$$y_{it} = \\alpha_{i} + \\lambda_{t} + \\sum_{k=a}^{b}D_{it}^{k}\\theta_{k}+X_{it}'\\gamma + r_{it}$$\n",
    "\n",
    "where $r_{it}$ is drawn from an AR(1) process with AR(1) coefficient equal to 0.9 and normal white noise errors. In this DGP, there are 30 clusters, 20 time periods, 10 extra controls, and a total of 30 regression coefficients of interest (i.e $a$=-15 and $b$=15 in the event-study regression above). We simulate from this DGP and print the sampling variability of $\\theta_{k}$ across these 1,000 simulations along with the estimate of this sampling variability based on the leave-out formula of KSS as well as estimates based on the traditional White (1980) cluster-robust standard errors that are typically printed by standard packages such as `reghdfe`. \n"
   ]
  },
  {
   "cell_type": "code",
   "execution_count": 22,
   "metadata": {},
   "outputs": [
    {
     "name": "stdout",
     "output_type": "stream",
     "text": [
      "    True Event-Study Coefficients    Mean of OLS    Variance of OLS    Leave-Out Estimate of Variance of OLS    White Estimate of Variance of OLS\n",
      "    _____________________________    ___________    _______________    _____________________________________    _________________________________\n",
      "                   0                  -0.0016801         0.17062                        0.1844                                0.15515            \n",
      "                   0                  -0.0018907         0.10706                       0.11202                                0.10272            \n",
      "                   0                   0.0010014        0.082048                      0.090545                               0.083933            \n",
      "                   0                   0.0015715        0.067141                      0.073219                               0.068104            \n",
      "                   0                  -0.0038392        0.055171                      0.058616                               0.054986            \n",
      "                   0                  -0.0051035        0.044944                      0.047458                               0.044427            \n",
      "                   0                  -0.0036778        0.036959                      0.037503                               0.035205            \n",
      "                   0                  -0.0030808        0.028284                      0.028831                               0.027252            \n",
      "                   0                  -0.0035461        0.020901                      0.021766                               0.020671            \n",
      "                   0                  -0.0024854         0.01547                      0.015701                               0.015073            \n",
      "                   0                  -0.0012375        0.010441                      0.010546                               0.010335            \n",
      "                   0                  0.00056696        0.006353                     0.0066048                              0.0065209            \n",
      "                   0                  0.00027794       0.0035436                     0.0036194                              0.0036765            \n",
      "                   0                 -0.00032673       0.0014308                     0.0014319                              0.0015648            \n",
      "                 0.1                    0.099356       0.0013028                     0.0013845                              0.0014591            \n",
      "                0.11                     0.10905       0.0029208                     0.0029944                              0.0030115            \n",
      "                0.12                     0.11829       0.0053641                     0.0056488                               0.005424            \n",
      "                0.13                     0.12828       0.0087672                     0.0091082                              0.0086513            \n",
      "                0.14                     0.13837         0.01321                      0.013634                               0.012818            \n",
      "                0.15                     0.14855        0.018258                      0.019158                                0.01786            \n",
      "                0.16                     0.15729        0.024534                      0.025694                                0.02392            \n",
      "                0.17                     0.16806        0.032291                      0.033364                               0.030951            \n",
      "                0.18                      0.1778        0.041197                      0.041861                               0.038937            \n",
      "                0.19                     0.18553          0.0515                      0.051868                               0.047925            \n",
      "                 0.2                     0.19411        0.062587                      0.062997                               0.058119            \n",
      "                0.21                     0.20516         0.07357                      0.074938                                0.06924            \n",
      "                0.22                     0.21451        0.087722                       0.08838                               0.081578            \n",
      "                0.23                     0.22303           0.103                       0.10421                               0.095235            \n",
      "                0.24                     0.23394          0.1199                       0.12224                                 0.1105            \n",
      "                0.25                      0.2464         0.16531                        0.1667                                0.14309            \n"
     ]
    }
   ],
   "source": [
    "%% some parameters for simulated data\n",
    "wins_value                      = 15; %event studies binned at -wins_value and wins_value\n",
    "N_clusters                      = 30; %number of clusters.\n",
    "N_X                             = 10; %number of extra controls.\n",
    "T                               = 20; %number of time periods.\n",
    "S                               = 1000; %number of montercarlo draws\n",
    "coeff_sim                       = zeros(S,wins_value*2); %this will contain the estimated \\theta_k for a given MC draw \n",
    "V_sim                           = zeros(S,wins_value*2); %this will contain the estimated sampling variability of \\theta_k based on KSS\n",
    "V_sim_naive                     = zeros(S,wins_value*2); %this will contain the estimated sampling variability of \\theta_k based on White \n",
    "parfor s = 1:S\n",
    "[y, D, clusterID, year, X ]     = create_DGP(wins_value,N_clusters,N_X,T,s); %this takes a draw from the DGP described above\n",
    "[coeff_sim(s,:),SE,SE_naive]    = KSS_SE(y,D,clusterID,year,X); %run KSS_SE on the simulated data.\n",
    "V_sim(s,:)                      = SE.^2; %%store the squared of the SE based on KSS\n",
    "V_sim_naive(s,:)                = SE_naive.^2; %%store the squared of the SE based on White\n",
    "end\n",
    "true_coeff                      = [0.1.*ones(wins_value,1); 0.2.*ones(wins_value+1,1)];%%parallel trends, then a jump (equal to 0.1)\n",
    "trend                           = [0.*ones(wins_value,1); 0.01*((1:wins_value+1)'-1)];\n",
    "true_coeff                      = true_coeff + trend; %% this is how the true event-study coefficients are defined in the DGP, see line 45 of create_DGP.\n",
    "true_coeff                      = true_coeff-true_coeff(wins_value); %%OLS is normalized relative to year before event.\n",
    "true_coeff(wins_value)          = []; %omit year before event\n",
    "C                               = cov(coeff_sim); %%VCM of OLS estimates across MC draws\n",
    "true_V                          = diag(C); %%get variances\n",
    "coeff_sim                       = mean(coeff_sim)'; %mean of OLS\n",
    "V_sim                           = mean(V_sim)'; %mean of leave-out estimates of the (squared) SE\n",
    "V_sim_naive                     = mean(V_sim_naive)'; %mean of White estimates of the (squared) SE\n",
    "myArray                         = [true_coeff coeff_sim  true_V V_sim V_sim_naive];\n",
    "a2t                             = array2table(myArray,\"VariableNames\",[\"True Event-Study Coefficients\",\"Mean of OLS\",\"Variance of OLS\" \"Leave-Out Estimate of Variance of OLS\" \"White Estimate of Variance of OLS\"]);\n",
    "disp(a2t)"
   ]
  },
  {
   "cell_type": "markdown",
   "metadata": {},
   "source": [
    "One can see from the output above that the leave-out estimate of the sampling variability are approximately unbiased while the White SEs are downward biased. This is particularly evident when looking at the tails of the event-study coefficients (e.g last two-three rows of the table above). This is to be expected given the unbalanced nature of the design: there are very few clusters for which we are able to observe outcomes, say, 15 years after the implementation of the policy. "
   ]
  }
 ],
 "metadata": {
  "kernelspec": {
   "display_name": "MATLAB Kernel",
   "language": "matlab",
   "name": "jupyter_matlab_kernel"
  },
  "language_info": {
   "file_extension": ".m",
   "mimetype": "text/x-matlab",
   "name": "matlab"
  },
  "toc": {
   "base_numbering": 1,
   "nav_menu": {},
   "number_sections": true,
   "sideBar": true,
   "skip_h1_title": false,
   "title_cell": "Table of Contents",
   "title_sidebar": "Contents",
   "toc_cell": true,
   "toc_position": {},
   "toc_section_display": true,
   "toc_window_display": true
  }
 },
 "nbformat": 4,
 "nbformat_minor": 4
}
